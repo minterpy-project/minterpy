{
 "cells": [
  {
   "cell_type": "markdown",
   "id": "5741d863-bc8c-4011-8d63-712c89ef9dd8",
   "metadata": {},
   "source": "# Make a Grid Complete"
  },
  {
   "cell_type": "code",
   "id": "c94d29f1-8250-4231-af69-440ef9df77df",
   "metadata": {},
   "source": [
    "import minterpy as mp\n",
    "import numpy as np\n",
    "import matplotlib.pyplot as plt"
   ],
   "outputs": [],
   "execution_count": null
  },
  {
   "cell_type": "markdown",
   "id": "79490875-cdde-497a-a5a8-c20588b5ece9",
   "metadata": {},
   "source": [
    "A `Grid` instance is defined by a multi-index set which itself may or may not be _complete_\n",
    "(see {doc}`/how-to/multi-index-set/multi-index-set-complete` for more details)\n",
    "A `Grid` is therefore _complete_ if the underlying multi-index set is complete;\n",
    "it is _incomplete_ otherwise.\n",
    "This guide shows how to check if a given `Grid` instance is complete and make it complete. "
   ]
  },
  {
   "cell_type": "markdown",
   "id": "d6f277a3-1a78-496f-9154-a092dbded327",
   "metadata": {},
   "source": [
    "## Motivating example\n",
    "\n",
    "Consider a two-dimensional Leja-ordered Chebyshev-Lobatto interpolation grid\n",
    "whose underlying multi-index set contains the elements:\n",
    "\n",
    "$$\n",
    "A = \\{ (1, 0), (0, 2) \\}\n",
    "$$\n",
    "\n",
    "with respect to $l_p$-degree of $2.0$.\n",
    "\n",
    "This grid is incomplete; make the grid complete and plot the corresponding\n",
    "unisolvent nodes. "
   ]
  },
  {
   "cell_type": "markdown",
   "id": "63a9fc78-d3e7-463a-9b11-cedf391ee827",
   "metadata": {},
   "source": "The multi-index set of the `Grid`can be created in Minterpy as follows:"
  },
  {
   "cell_type": "code",
   "id": "3bff2feb-3a96-4f93-94b7-4ab900c8e4dd",
   "metadata": {},
   "source": "mi = mp.MultiIndexSet(np.array([[1, 0], [0, 2]]), lp_degree=2.0)",
   "outputs": [],
   "execution_count": null
  },
  {
   "cell_type": "code",
   "id": "9a115ec2-1bcc-4dd5-9dc4-c1b5af2c1fdd",
   "metadata": {},
   "source": [
    "print(mi)"
   ],
   "outputs": [],
   "execution_count": null
  },
  {
   "cell_type": "markdown",
   "id": "5d0a5ad1-4a03-4829-9902-1a3918c7305b",
   "metadata": {},
   "source": [
    "This set has a polynomial degree of:"
   ]
  },
  {
   "cell_type": "code",
   "id": "93096b3b-17c6-4827-a15e-bc918b960602",
   "metadata": {},
   "source": [
    "mi.poly_degree"
   ],
   "outputs": [],
   "execution_count": null
  },
  {
   "cell_type": "markdown",
   "id": "33ce61cd-8c9b-434d-b70a-6a52509d2392",
   "metadata": {},
   "source": [
    "```{note}\n",
    "This polynomial degree corresponds to the _minimum_ degree $n$ such that all elements in the multi-index set satisfy the $l_p$-norm condition $\\lVert \\boldsymbol{\\alpha} \\rVert_p = (\\alpha_1^p + \\ldots + \\alpha_m^p)^{\\frac{1}{p}} \\leq n$ for all $\\boldsymbol{\\alpha} \\in A$. Given a set of exponents and $l_p$-degree, Minterpy automatically infers this polynomial degree.\n",
    "```"
   ]
  },
  {
   "metadata": {},
   "cell_type": "markdown",
   "source": "An instance of `Grid` given the multi-index set can then be created as follows:",
   "id": "673bae6bbaccaded"
  },
  {
   "metadata": {},
   "cell_type": "code",
   "source": "grd = mp.Grid(mi)",
   "id": "91667f9aa7129625",
   "outputs": [],
   "execution_count": null
  },
  {
   "metadata": {},
   "cell_type": "markdown",
   "source": "Note that by default, the underlying generating points are the Leja-ordered Chebyshev-Lobatto points.",
   "id": "d6968a2d0c7eca8"
  },
  {
   "cell_type": "markdown",
   "id": "f8eacd5f-3ee6-4f29-ba4f-dc325b5a1b42",
   "metadata": {},
   "source": [
    "## Check for completeness\n",
    "\n",
    "The property `is_complete` of a `Grid` instance returns `True` if the set of exponents in the instance is complete and `False` otherwise. "
   ]
  },
  {
   "cell_type": "code",
   "id": "0dabd4f7-32d7-42e7-af1e-ffce35969d46",
   "metadata": {},
   "source": "grd.is_complete",
   "outputs": [],
   "execution_count": null
  },
  {
   "cell_type": "markdown",
   "id": "d7f74e72-5188-47d8-a626-eed48b7fc9e6",
   "metadata": {},
   "source": "The check indicates that the given grid is not complete with respect to the given polynomial degree and $l_p$-degree."
  },
  {
   "cell_type": "markdown",
   "id": "edc4aecb-5468-460d-996c-241ad8bfb63d",
   "metadata": {},
   "source": [
    "## Make complete\n",
    "\n",
    "The method `make_complete()` creates a complete `Grid` whose underlying multi-index set is complete.\n",
    "Calling the method returns a new instance of `Grid` and the result can be stored in a variable for further use:\n",
    "\n",
    "The method `make_complete()` creates a complete multi-index set from a given instance of `MultiIndexSet`."
   ]
  },
  {
   "metadata": {},
   "cell_type": "code",
   "source": "grd_complete = grd.make_complete()",
   "id": "4ebef6eef50c5060",
   "outputs": [],
   "execution_count": null
  },
  {
   "metadata": {},
   "cell_type": "markdown",
   "source": "Notice that the `Grid` instance is now complete:",
   "id": "42d29076d2460069"
  },
  {
   "metadata": {},
   "cell_type": "code",
   "source": "grd_complete.is_complete",
   "id": "b5a3e4c9c8045170",
   "outputs": [],
   "execution_count": null
  },
  {
   "metadata": {},
   "cell_type": "markdown",
   "source": "because the underlying multi-index set is now also complete (with respect to $l_p$-degree $2.0$):",
   "id": "782cdd16ec7e4b67"
  },
  {
   "metadata": {},
   "cell_type": "code",
   "source": "grd_complete.multi_index",
   "id": "99fde9713d74857a",
   "outputs": [],
   "execution_count": null
  },
  {
   "metadata": {},
   "cell_type": "markdown",
   "source": "The unisolvent nodes of incomplete and complete grids are shown below:",
   "id": "54149e07a3dd9a82"
  },
  {
   "metadata": {},
   "cell_type": "code",
   "source": [
    "fig, axs = plt.subplots(1, 2, figsize=(10, 5))\n",
    "axs[0].scatter(grd.unisolvent_nodes[:, 0], grd.unisolvent_nodes[:, 1])\n",
    "axs[1].scatter(grd_complete.unisolvent_nodes[:, 0], grd_complete.unisolvent_nodes[:, 1]);"
   ],
   "id": "6b4d7fca56905afe",
   "outputs": [],
   "execution_count": null
  }
 ],
 "metadata": {
  "kernelspec": {
   "display_name": "Python 3 (ipykernel)",
   "language": "python",
   "name": "python3"
  },
  "language_info": {
   "codemirror_mode": {
    "name": "ipython",
    "version": 3
   },
   "file_extension": ".py",
   "mimetype": "text/x-python",
   "name": "python",
   "nbconvert_exporter": "python",
   "pygments_lexer": "ipython3",
   "version": "3.8.18"
  }
 },
 "nbformat": 4,
 "nbformat_minor": 5
}
