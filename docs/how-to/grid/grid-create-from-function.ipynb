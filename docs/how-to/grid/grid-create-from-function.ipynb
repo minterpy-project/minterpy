{
 "cells": [
  {
   "metadata": {},
   "cell_type": "markdown",
   "source": "# Create a Grid with a Generating Function",
   "id": "2be84de1e0a3b90e"
  },
  {
   "metadata": {},
   "cell_type": "code",
   "source": [
    "import numpy as np\n",
    "import minterpy as mp\n",
    "import matplotlib.pyplot as plt"
   ],
   "id": "80d67622f636af48",
   "outputs": [],
   "execution_count": null
  },
  {
   "metadata": {},
   "cell_type": "markdown",
   "source": [
    "Minterpy interpolating polynomials (i.e., in the Lagrange or Newton basis)\n",
    "lives on a grid that holds the so-called _unisolvent nodes_.\n",
    "An interpolating multi-dimensional polynomial of a given multi-index set of\n",
    "exponents is uniquely\n",
    "determined on the corresponding unisolvent nodes.\n",
    "\n",
    "An instance of `Grid` can be constructed via different constructors:\n",
    "\n",
    "- {py:meth}`.Grid.from_function`: create an instance with a generating function (this page)\n",
    "- {py:meth}`.Grid.from_points`: create an instance with an array of generating points (see the {doc}`example <grid-create-from-points>`)\n",
    "- {py:meth}`.Grid.from_degree`: create an instance with a complete multi-index set (see the {doc}`example <grid-create-from-degree>`)\n",
    "- {py:meth}`.Grid.from_value_set`: create an instance based on an array of generating values (see the {doc}`example <grid-create-from-value-set>`)\n",
    "- {py:class}`.Grid`: the default constructor (see the {doc}`example <grid-create-default-constructor>`)\n",
    "\n",
    "This guide provides an example on how to construct a `Grid` instance based\n",
    "on a given generating function using the `from_function()` method."
   ],
   "id": "a83abcedf02e16e1"
  },
  {
   "metadata": {},
   "cell_type": "markdown",
   "source": [
    "## About a generating function\n",
    "\n",
    "A generating function is a function that creates an array of generating points\n",
    "(nodes) for a given one-dimensional polynomial degree and spatial dimension.\n",
    "It then returns an array of shape `(n + 1, m)` where `n` and `m` are the \n",
    "one-dimensional polynomial degree and spatial dimension, respectively.\n",
    "\n",
    "A valid generating function in Minterpy must have a signature similar to\n",
    "the one below:\n",
    "\n",
    "```python\n",
    "def my_gen_fun(poly_degree: int, spatial_dimension: int) -> np.ndarray:\n",
    "    ...\n",
    "```\n",
    "\n",
    "It must return an array with the aforementioned shape and each column of the\n",
    "array must have unique values.\n",
    "\n",
    "Take for instance, the default generating function in Minterpy, i.e.,\n",
    "the Leja-ordered Chebyshev-Lobatto generating function.\n",
    "The function returns the following generating points in two dimensions\n",
    "with maximum polynomial degree of $3$ in every dimension:"
   ],
   "id": "cf7e6168829e5e2b"
  },
  {
   "metadata": {},
   "cell_type": "code",
   "source": "mp.gen_points.gen_points_chebyshev(poly_degree=3, spatial_dimension=2)",
   "id": "6b6bf1693e8f01a0",
   "outputs": [],
   "execution_count": null
  },
  {
   "metadata": {},
   "cell_type": "markdown",
   "source": [
    "Notice that the array has $4$ rows (i.e., $n + 1$, $n = 3$ as\n",
    "one-dimensional polynomials of degree $3$ require $4$ points)\n",
    "and $2$ columns (i.e., $m = 2$), and that each column has unique values."
   ],
   "id": "6041a18b159cac12"
  },
  {
   "metadata": {},
   "cell_type": "markdown",
   "source": [
    "## About the `from_function()` factory method\n",
    "\n",
    "The method `from_function()` of the `Grid` class returns an instance of Grid\n",
    "based on a given generating function.\n",
    "\n",
    "The method accepts two mandatory arguments, namely, the multi-index set\n",
    "of exponents that defines the polynomials that grid can support,\n",
    "and the generating function that creates generating points\n",
    "as required by the multi-index set.\n",
    "\n",
    "Any callable that is a valid generating function (see above) may be passed\n",
    "as the second argument to `from_function()`.\n",
    "Alternatively, a string as a key to a dictionary of built-in generating\n",
    "functions may be specified.\n",
    "\n",
    "The `from_function()` method is a shortcut to create a grid with a given\n",
    "multi-index set and a particular generating function that is, possibly, defined\n",
    "by the users."
   ],
   "id": "50c96a68e8c901e0"
  },
  {
   "metadata": {},
   "cell_type": "markdown",
   "source": [
    "## Example: Two-dimensional interpolation grid\n",
    "\n",
    "Create an equidistant interpolation grid in $[-1, 1]^2$ to support two-dimensional\n",
    "polynomials having a multi-index set \n",
    "$A = \\{ (0, 0), (1, 0), (2, 0), (3, 0), (0, 1), (1, 1), (0, 2), (1, 2), (0, 3), (0, 4) \\}$ \n",
    "(defined with respect to $l_p$-degree $2.0$)."
   ],
   "id": "f2e7ab16bd7b05cc"
  },
  {
   "metadata": {},
   "cell_type": "markdown",
   "source": [
    "### Multi-index set\n",
    "\n",
    "Create an instance of `MultiIndexSet` following the above specification:"
   ],
   "id": "6a35e4ca9db3b8b0"
  },
  {
   "metadata": {},
   "cell_type": "code",
   "source": [
    "exponents = np.array([\n",
    "    [0, 0],\n",
    "    [1, 0],\n",
    "    [2, 0],\n",
    "    [3, 0],\n",
    "    [0, 1],\n",
    "    [1, 1],\n",
    "    [0, 2],\n",
    "    [1, 2],\n",
    "    [0, 3],\n",
    "    [0, 4],\n",
    "])"
   ],
   "id": "30bdd334f359d36a",
   "outputs": [],
   "execution_count": null
  },
  {
   "metadata": {},
   "cell_type": "code",
   "source": "mi = mp.MultiIndexSet(exponents, lp_degree=2.0)",
   "id": "d3ce0ffcefd7a222",
   "outputs": [],
   "execution_count": null
  },
  {
   "metadata": {},
   "cell_type": "code",
   "source": "print(mi)",
   "id": "8d5412adddc4b0a1",
   "outputs": [],
   "execution_count": null
  },
  {
   "metadata": {},
   "cell_type": "markdown",
   "source": [
    "### Generating function\n",
    "\n",
    "The generating function for equidistant points can be defined as follows:"
   ],
   "id": "725427e2a48988ea"
  },
  {
   "metadata": {},
   "cell_type": "code",
   "source": [
    "def equidistant_gen_function(\n",
    "    poly_degree: int,\n",
    "    spatial_dimension: int,\n",
    ") -> np.ndarray:\n",
    "    \"\"\"Create an array of equidistant generating points.\"\"\"\n",
    "    xx = np.linspace(-1, 1, poly_degree + 1)[:, np.newaxis]\n",
    "    \n",
    "    return np.tile(xx, spatial_dimension)"
   ],
   "id": "84e9c48050e35d8a",
   "outputs": [],
   "execution_count": null
  },
  {
   "metadata": {},
   "cell_type": "markdown",
   "source": [
    "Given the function above, the generating points for polynomial degree $3$ in every dimension\n",
    "and spatial dimension $3$ are:"
   ],
   "id": "c059a88286b4fa53"
  },
  {
   "metadata": {},
   "cell_type": "code",
   "source": "print(equidistant_gen_function(3, 3))",
   "id": "2399d4f46cf1f248",
   "outputs": [],
   "execution_count": null
  },
  {
   "metadata": {},
   "cell_type": "markdown",
   "source": [
    "### Grid instance\n",
    "\n",
    "Given the multi-index set and the generating function,\n",
    "an instance of `Grid` can be constructed via the `from_function()` method\n",
    "as follows:"
   ],
   "id": "dd4ba554f203b33e"
  },
  {
   "metadata": {},
   "cell_type": "code",
   "source": "grd = mp.Grid.from_function(mi, equidistant_gen_function)",
   "id": "1fb54f2c699b50c4",
   "outputs": [],
   "execution_count": null
  },
  {
   "metadata": {},
   "cell_type": "markdown",
   "source": "The grid has the following unisolvent nodes:",
   "id": "513bc88db90b7505"
  },
  {
   "metadata": {},
   "cell_type": "code",
   "source": "print(grd.unisolvent_nodes)",
   "id": "a04b54f6e38e440",
   "outputs": [],
   "execution_count": null
  },
  {
   "metadata": {},
   "cell_type": "markdown",
   "source": "Finally, the two-dimensional interpolation grid is plotted below:",
   "id": "77a00b903229ac94"
  },
  {
   "metadata": {},
   "cell_type": "code",
   "source": [
    "plt.scatter(grd.unisolvent_nodes[:, 0], grd.unisolvent_nodes[:, 1])\n",
    "plt.xlabel(\"$x_1$\", fontsize=16)\n",
    "plt.ylabel(\"$x_2$\", fontsize=16);"
   ],
   "id": "a7c41c4712b66521",
   "outputs": [],
   "execution_count": null
  }
 ],
 "metadata": {
  "kernelspec": {
   "display_name": "Python 3",
   "language": "python",
   "name": "python3"
  },
  "language_info": {
   "codemirror_mode": {
    "name": "ipython",
    "version": 2
   },
   "file_extension": ".py",
   "mimetype": "text/x-python",
   "name": "python",
   "nbconvert_exporter": "python",
   "pygments_lexer": "ipython2",
   "version": "2.7.6"
  }
 },
 "nbformat": 4,
 "nbformat_minor": 5
}
